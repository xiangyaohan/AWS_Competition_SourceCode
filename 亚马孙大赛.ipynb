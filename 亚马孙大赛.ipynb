{
 "metadata": {
  "language_info": {
   "codemirror_mode": {
    "name": "ipython",
    "version": 3
   },
   "file_extension": ".py",
   "mimetype": "text/x-python",
   "name": "python",
   "nbconvert_exporter": "python",
   "pygments_lexer": "ipython3",
   "version": "3.8.5"
  },
  "orig_nbformat": 2,
  "kernelspec": {
   "name": "python385jvsc74a57bd0cc5f70855ac006f3de45a3cc3b9e7d8d53845e50458809cb162b0174266dec97",
   "display_name": "Python 3.8.5 64-bit ('base': conda)"
  }
 },
 "nbformat": 4,
 "nbformat_minor": 2,
 "cells": [
  {
   "cell_type": "code",
   "execution_count": 3,
   "metadata": {},
   "outputs": [],
   "source": [
    "import numpy as np\n",
    "import pandas as pd \n",
    "#这两个库大家肯定都知道是干嘛的\n",
    "\n",
    "from tensorflow import keras\n",
    "from tensorflow.keras.utils import to_categorical\n",
    "from tensorflow.keras.models import Sequential\n",
    "from tensorflow.keras.layers import Conv2D,MaxPool2D,Dropout,Dense, Flatten\n",
    "#用来构建卷积神经网络的库，后面会细讲"
   ]
  },
  {
   "cell_type": "code",
   "execution_count": 4,
   "metadata": {},
   "outputs": [
    {
     "output_type": "execute_result",
     "data": {
      "text/plain": [
       "['train_images',\n",
       " 'val_images',\n",
       " 'test_images',\n",
       " 'train_labels',\n",
       " 'val_labels',\n",
       " 'test_labels']"
      ]
     },
     "metadata": {},
     "execution_count": 4
    }
   ],
   "source": [
    "data = np.load('训练数据chestmnist.npz')\n",
    "data.files\n",
    "#导入数据"
   ]
  },
  {
   "cell_type": "code",
   "execution_count": 5,
   "metadata": {},
   "outputs": [],
   "source": [
    "train_x = data['train_images']/255\n",
    "train_y = data['train_labels']\n",
    "val_x = data['val_images']/255\n",
    "val_y = data['val_labels']\n",
    "test_x = data['test_images']/255\n",
    "test_y = data['test_labels']"
   ]
  },
  {
   "cell_type": "code",
   "execution_count": 30,
   "metadata": {},
   "outputs": [],
   "source": [
    "from PIL import Image\n",
    "img=im=Image.fromarray(train_x[0]) #可以直接选择图片并打开和显示\n",
    "img.show()"
   ]
  },
  {
   "cell_type": "code",
   "execution_count": 6,
   "metadata": {},
   "outputs": [],
   "source": [
    "train_x = train_x.reshape(train_x.shape[0], 28, 28, 1)\n",
    "val_x = val_x.reshape(val_x.shape[0], 28, 28, 1)\n",
    "test_x = test_x.reshape(test_x.shape[0], 28, 28, 1)"
   ]
  },
  {
   "cell_type": "code",
   "execution_count": 20,
   "metadata": {},
   "outputs": [
    {
     "output_type": "stream",
     "name": "stdout",
     "text": [
      "Model: \"sequential_5\"\n_________________________________________________________________\nLayer (type)                 Output Shape              Param #   \n=================================================================\nconv2d_7 (Conv2D)            (None, 26, 26, 64)        640       \n_________________________________________________________________\nconv2d_8 (Conv2D)            (None, 24, 24, 32)        18464     \n_________________________________________________________________\nconv2d_9 (Conv2D)            (None, 22, 22, 16)        4624      \n_________________________________________________________________\nconv2d_10 (Conv2D)           (None, 20, 20, 8)         1160      \n_________________________________________________________________\nmax_pooling2d_3 (MaxPooling2 (None, 10, 10, 8)         0         \n_________________________________________________________________\nflatten_4 (Flatten)          (None, 800)               0         \n_________________________________________________________________\ndense_8 (Dense)              (None, 256)               205056    \n_________________________________________________________________\ndense_9 (Dense)              (None, 128)               32896     \n_________________________________________________________________\ndense_10 (Dense)             (None, 14)                1806      \n=================================================================\nTotal params: 264,646\nTrainable params: 264,646\nNon-trainable params: 0\n_________________________________________________________________\n"
     ]
    }
   ],
   "source": [
    "model.summary()"
   ]
  },
  {
   "cell_type": "code",
   "execution_count": 26,
   "metadata": {},
   "outputs": [],
   "source": [
    "model = Sequential()\n",
    "model.add(Dropout(.1,input_shape=(28,28,1)))\n",
    "model.add(Conv2D(32, kernel_size=3, activation='relu'))\n",
    "model.add(Conv2D(16, kernel_size=3, activation='relu'))\n",
    "model.add(MaxPool2D(pool_size=2))\n",
    "model.add(Flatten())\n",
    "model.add(Dense(256, activation='relu'))\n",
    "model.add(Dense(14, activation='softmax'))\n",
    "\n",
    "model.compile(optimizer='sgd',\n",
    "              loss='categorical_crossentropy',\n",
    "              metrics=['accuracy'])"
   ]
  },
  {
   "cell_type": "code",
   "execution_count": 27,
   "metadata": {},
   "outputs": [
    {
     "output_type": "stream",
     "name": "stdout",
     "text": [
      "15694/15694 [==============================] - 79s 5ms/step - loss: 250239.1381 - accuracy: 0.1308 - val_loss: 114521600.0000 - val_accuracy: 0.6416\n"
     ]
    },
    {
     "output_type": "execute_result",
     "data": {
      "text/plain": [
       "<tensorflow.python.keras.callbacks.History at 0x1d533fec130>"
      ]
     },
     "metadata": {},
     "execution_count": 27
    }
   ],
   "source": [
    "model.fit(x=train_x,y=train_y,batch_size=5,validation_data= (val_x,val_y))"
   ]
  },
  {
   "cell_type": "code",
   "execution_count": 28,
   "metadata": {},
   "outputs": [
    {
     "output_type": "stream",
     "name": "stdout",
     "text": [
      "702/702 - 2s - loss: 118892672.0000 - accuracy: 0.6396\n",
      "\n",
      "Test accuracy: 0.6395934820175171\n",
      "\n",
      "Test_loss: 118892672.0\n"
     ]
    }
   ],
   "source": [
    "test_loss,test_acc = model.evaluate(test_x,  test_y, verbose=2)\n",
    "print('\\nTest accuracy:', test_acc)"
   ]
  },
  {
   "cell_type": "code",
   "execution_count": null,
   "metadata": {},
   "outputs": [],
   "source": []
  }
 ]
}